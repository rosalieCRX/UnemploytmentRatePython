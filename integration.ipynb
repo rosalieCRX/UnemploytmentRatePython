{
  "nbformat": 4,
  "nbformat_minor": 0,
  "metadata": {
    "colab": {
      "name": "integration.ipynb",
      "provenance": [],
      "collapsed_sections": [],
      "mount_file_id": "17vzRgThvA3RkExN7fhoHBTyRhgMa0ByK",
      "authorship_tag": "ABX9TyMxpuh0ezW/Lg8FlA6QsDVa",
      "include_colab_link": true
    },
    "kernelspec": {
      "name": "python3",
      "display_name": "Python 3"
    }
  },
  "cells": [
    {
      "cell_type": "markdown",
      "metadata": {
        "id": "view-in-github",
        "colab_type": "text"
      },
      "source": [
        "<a href=\"https://colab.research.google.com/github/rosalieCRX/UnemploytmentRatePython/blob/main/integration.ipynb\" target=\"_parent\"><img src=\"https://colab.research.google.com/assets/colab-badge.svg\" alt=\"Open In Colab\"/></a>"
      ]
    },
    {
      "cell_type": "code",
      "metadata": {
        "id": "iYxS6ryR3KKQ"
      },
      "source": [
        "# integration\n",
        "spread1 = df['1 Year Yield']-df['3-Month Treasury Bill']\n",
        "spread1.name = '1 year spread'\n",
        "df = pandas.concat([df, spread1], axis=1)\n",
        "spread5 = df['5 Year Yield']-df['3-Month Treasury Bill']\n",
        "spread5.name = '5 year spread'\n",
        "df = pandas.concat([df, spread5], axis=1)\n",
        "spread10 = df['10 Year Yield']-df['3-Month Treasury Bill']\n",
        "spread10.name = '10 year spread'\n",
        "df = pandas.concat([df, spread10], axis=1)\n",
        "corporate = df['Baa Yield']-df['Aaa Yield']\n",
        "corporate.name = 'Corporate Spread'\n",
        "df = pandas.concat([df, corporate], axis=1)\n",
        "df = df.drop([\"3-Month Treasury Bill\",\"5 Year Yield\",\"10 Year Yield\",\"1 Year Yield\",\"Baa Yield\",\"Aaa Yield\"], axis=1)\n",
        "print('3-Month Treasury Bill, 5 Year Yield, 10 Year Yield, 1 Year Yield, Baa Yield, Aaa Yield dropped and \\n added 1 year spread, 5 year spread, 10 year spread, Corporate Spread')"
      ],
      "execution_count": null,
      "outputs": []
    }
  ]
}