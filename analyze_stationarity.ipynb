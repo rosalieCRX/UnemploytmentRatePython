{
  "nbformat": 4,
  "nbformat_minor": 0,
  "metadata": {
    "colab": {
      "name": "analyze stationarity.ipynb",
      "provenance": [],
      "mount_file_id": "1y25x2GgVraUPyszTg9rCtTbXsq100sjm",
      "authorship_tag": "ABX9TyOCaxeuDs22pZPKmpU6RRgW",
      "include_colab_link": true
    },
    "kernelspec": {
      "name": "python3",
      "display_name": "Python 3"
    }
  },
  "cells": [
    {
      "cell_type": "markdown",
      "metadata": {
        "id": "view-in-github",
        "colab_type": "text"
      },
      "source": [
        "<a href=\"https://colab.research.google.com/github/rosalieCRX/UnemploytmentRatePython/blob/main/analyze_stationarity.ipynb\" target=\"_parent\"><img src=\"https://colab.research.google.com/assets/colab-badge.svg\" alt=\"Open In Colab\"/></a>"
      ]
    },
    {
      "cell_type": "code",
      "metadata": {
        "id": "UlkoJlAYypTo"
      },
      "source": [
        "class bcolors:\n",
        "    \"\"\"\n",
        "    class course: https://svn.blender.org/svnroot/bf-blender/trunk/blender/build_files/scons/tools/bcolors.py\n",
        "    \"\"\"\n",
        "    HEADER = '\\033[95m'\n",
        "    OKBLUE = '\\033[94m'\n",
        "    OKCYAN = '\\033[96m'\n",
        "    OKGREEN = '\\033[92m'\n",
        "    WARNING = '\\033[93m'\n",
        "    FAIL = '\\033[91m'\n",
        "    ENDC = '\\033[0m'\n",
        "    BOLD = '\\033[1m'\n",
        "    UNDERLINE = '\\033[4m'\n",
        "\n",
        "    def disable(self):\n",
        "        self.HEADER = ''\n",
        "        self.OKBLUE = ''\n",
        "        self.OKGREEN = ''\n",
        "        self.WARNING = ''\n",
        "        self.FAIL = ''\n",
        "        self.ENDC = ''"
      ],
      "execution_count": null,
      "outputs": []
    },
    {
      "cell_type": "code",
      "metadata": {
        "id": "ack5AsflV20j"
      },
      "source": [
        "from statsmodels.tsa.stattools import adfuller\n",
        "\n",
        "adf_results = {}\n",
        "\n",
        "for col in df.columns.values:  #or edit this for a subset of columns first\n",
        "    adf_results[col] = adfuller(df[col].dropna())\n",
        "\n",
        "for i in adf_results.keys():\n",
        "  # ADF Test\n",
        "  result = adf_results[i]\n",
        "  print('>>> %s:\\n'%i)\n",
        "  print(f'ADF Statistic: {round(result[0],4)}, MacKinnon p-value: {round(result[1],4)}')\n",
        "  print(f'n_lags: {result[2]}')\n",
        "  \n",
        "  if result[0] < result[4]['1%']:\n",
        "    print(f'{bcolors.OKGREEN}Critial Values: < 1%{bcolors.ENDC}')\n",
        "  elif result[0] < result[4]['5%']:\n",
        "    print(f'{bcolors.OKGREEN }Critial Values: 1% < and < 5%{bcolors.ENDC}')\n",
        "  elif result[0] < result[4]['10%']:\n",
        "    print(f'{bcolors.OKGREEN }Critial Values: 5% < and < 10%{bcolors.ENDC}')\n",
        "  else:\n",
        "    print(f'{bcolors.FAIL }Critial Values: > 10%{bcolors.ENDC}')\n",
        "\n",
        "  print('\\n')\n"
      ],
      "execution_count": null,
      "outputs": []
    }
  ]
}